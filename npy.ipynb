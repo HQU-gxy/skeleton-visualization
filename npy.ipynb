{
 "cells": [
  {
   "cell_type": "code",
   "execution_count": 2,
   "metadata": {},
   "outputs": [],
   "source": [
    "from numpy.typing import NDArray\n",
    "import matplotlib.pyplot as plt\n",
    "from mpl_toolkits.mplot3d import Axes3D\n",
    "from matplotlib.axes import Axes\n",
    "import matplotlib.gridspec as gridspec\n",
    "import numpy as np\n",
    "from typing import cast\n",
    "d = np.load(\"output_keypoints_3d.npz\")"
   ]
  },
  {
   "cell_type": "code",
   "execution_count": 3,
   "metadata": {},
   "outputs": [
    {
     "data": {
      "text/plain": [
       "(167, 17, 3)"
      ]
     },
     "execution_count": 3,
     "metadata": {},
     "output_type": "execute_result"
    }
   ],
   "source": [
    "kps = d[\"reconstruction\"]\n",
    "kps.shape"
   ]
  },
  {
   "cell_type": "code",
   "execution_count": 4,
   "metadata": {},
   "outputs": [],
   "source": [
    "\n",
    "def show3Dpose(vals: NDArray, ax: Axes3D, fix_z: bool):\n",
    "    ax.view_init(elev=15., azim=70)\n",
    "    colors = [\n",
    "        (138 / 255, 201 / 255, 38 / 255),  # green, spine & head\n",
    "        (255 / 255, 202 / 255, 58 / 255),  # yellow, arms & shoulders\n",
    "        (25 / 255, 130 / 255, 196 / 255),  # blue, legs & hips\n",
    "    ]\n",
    "\n",
    "    I = np.array([0, 0, 1, 4, 2, 5, 0, 7, 8, 8, 14, 15, 11, 12, 8, 9])\n",
    "    J = np.array([1, 4, 2, 5, 3, 6, 7, 8, 14, 11, 15, 16, 12, 13, 9, 10])\n",
    "\n",
    "    LR = [3, 3, 3, 3, 3, 3, 1, 1, 2, 2, 2, 2, 2, 2, 1, 1]\n",
    "\n",
    "    for i in np.arange(len(I)):\n",
    "        x, y, z = [np.array([vals[I[i], j], vals[J[i], j]]) for j in range(3)]\n",
    "        ax.plot(x, y, z, lw=3, color=colors[LR[i] - 1])\n",
    "\n",
    "    RADIUS = 0.72\n",
    "\n",
    "    xroot, yroot, zroot = vals[0, 0], vals[0, 1], vals[0, 2]\n",
    "    ax.set_xlim3d((-RADIUS + xroot, RADIUS + xroot))\n",
    "    ax.set_ylim3d((-RADIUS + yroot, RADIUS + yroot))\n",
    "\n",
    "    if fix_z:\n",
    "        left_z = max(0.0, -RADIUS + zroot)\n",
    "        right_z = RADIUS + zroot\n",
    "        ax.set_zlim3d([left_z, right_z])\n",
    "        # ax.set_zlim3d([0, 1.5])\n",
    "    else:\n",
    "        ax.set_zlim3d([-RADIUS + zroot, RADIUS + zroot])\n",
    "\n",
    "    ax.set_aspect('equal')  # works fine in matplotlib==2.2.2 or 3.7.1\n",
    "\n",
    "    white = (1.0, 1.0, 1.0, 0.0)\n",
    "    ax.xaxis.set_pane_color(white)  # type: ignore\n",
    "    ax.yaxis.set_pane_color(white)  # type: ignore\n",
    "    ax.zaxis.set_pane_color(white)\n",
    "\n",
    "    ax.tick_params('x', labelbottom=False)\n",
    "    ax.tick_params('y', labelleft=False)\n",
    "    ax.tick_params('z', labelleft=False)  # type: ignore"
   ]
  },
  {
   "cell_type": "markdown",
   "metadata": {},
   "source": [
    "```json\n",
    "\"keypoints\": { 0: \"nose\", 1: \"left_eye\", 2: \"right_eye\", 3: \"left_ear\", 4: \"right_ear\", 5: \"left_shoulder\", 6: \"right_shoulder\", 7: \"left_elbow\", 8: \"right_elbow\", 9: \"left_wrist\", 10: \"right_wrist\", 11: \"left_hip\", 12: \"right_hip\", 13: \"left_knee\", 14: \"right_knee\", 15: \"left_ankle\", 16: \"right_ankle\" }\n",
    "```"
   ]
  },
  {
   "cell_type": "code",
   "execution_count": 12,
   "metadata": {},
   "outputs": [
    {
     "data": {
      "text/plain": [
       "(17, 3)"
      ]
     },
     "metadata": {},
     "output_type": "display_data"
    },
    {
     "data": {
      "text/plain": [
       "array([[ 0.0000000e+00,  0.0000000e+00,  0.0000000e+00],\n",
       "       [-1.1446696e-01, -6.1251954e-03,  1.9091105e-02],\n",
       "       [-8.3640546e-02,  4.2381471e-01,  8.5035756e-02],\n",
       "       [-4.8755914e-02,  8.2781178e-01,  2.5291616e-01],\n",
       "       [ 1.1601043e-01,  2.0160456e-04,  3.1454870e-03],\n",
       "       [ 1.0900587e-01,  4.2841870e-01,  5.6020476e-02],\n",
       "       [ 8.8844068e-02,  8.1666046e-01,  2.5199789e-01],\n",
       "       [-8.5484087e-03, -2.0692950e-01, -8.1414118e-02],\n",
       "       [-3.0300356e-02, -4.4630206e-01, -1.8443397e-01],\n",
       "       [-4.3630097e-02, -5.1236218e-01, -2.8008282e-01],\n",
       "       [-4.3892395e-02, -6.0151565e-01, -2.5731069e-01],\n",
       "       [ 1.3603930e-01, -4.2591548e-01, -1.5658578e-01],\n",
       "       [ 2.0560208e-01, -1.9120884e-01, -1.4736680e-02],\n",
       "       [ 1.8421590e-01,  5.2810434e-02, -8.4852569e-02],\n",
       "       [-1.8512690e-01, -4.1894948e-01, -1.3574049e-01],\n",
       "       [-2.2158432e-01, -1.7878255e-01,  2.4499021e-02],\n",
       "       [-2.0875648e-01,  5.0539434e-02, -5.5248547e-02]], dtype=float32)"
      ]
     },
     "metadata": {},
     "output_type": "display_data"
    },
    {
     "data": {
      "application/vnd.plotly.v1+json": {
       "config": {
        "plotlyServerURL": "https://plot.ly"
       },
       "data": [
        {
         "marker": {
          "color": "rgb(138,201,38)",
          "size": 6
         },
         "mode": "markers",
         "name": "bottom_torso",
         "type": "scatter3d",
         "x": [
          0
         ],
         "y": [
          0
         ],
         "z": [
          0
         ]
        },
        {
         "marker": {
          "color": "rgb(25,130,196)",
          "size": 6
         },
         "mode": "markers",
         "name": "left_hip",
         "type": "scatter3d",
         "x": [
          -0.11446695774793625
         ],
         "y": [
          0.019091105088591576
         ],
         "z": [
          0.006125195417553186
         ]
        },
        {
         "marker": {
          "color": "rgb(25,130,196)",
          "size": 6
         },
         "mode": "markers",
         "name": "left_knee",
         "type": "scatter3d",
         "x": [
          -0.08364054560661316
         ],
         "y": [
          0.08503575623035431
         ],
         "z": [
          -0.42381471395492554
         ]
        },
        {
         "marker": {
          "color": "rgb(25,130,196)",
          "size": 6
         },
         "mode": "markers",
         "name": "left_foot",
         "type": "scatter3d",
         "x": [
          -0.048755913972854614
         ],
         "y": [
          0.252916157245636
         ],
         "z": [
          -0.8278117775917053
         ]
        },
        {
         "marker": {
          "color": "rgb(25,130,196)",
          "size": 6
         },
         "mode": "markers",
         "name": "right_hip",
         "type": "scatter3d",
         "x": [
          0.11601042747497559
         ],
         "y": [
          0.0031454870477318764
         ],
         "z": [
          -0.0002016045618802309
         ]
        },
        {
         "marker": {
          "color": "rgb(25,130,196)",
          "size": 6
         },
         "mode": "markers",
         "name": "right_knee",
         "type": "scatter3d",
         "x": [
          0.109005868434906
         ],
         "y": [
          0.056020475924015045
         ],
         "z": [
          -0.42841869592666626
         ]
        },
        {
         "marker": {
          "color": "rgb(25,130,196)",
          "size": 6
         },
         "mode": "markers",
         "name": "right_foot",
         "type": "scatter3d",
         "x": [
          0.08884406834840775
         ],
         "y": [
          0.2519978880882263
         ],
         "z": [
          -0.816660463809967
         ]
        },
        {
         "marker": {
          "color": "rgb(138,201,38)",
          "size": 6
         },
         "mode": "markers",
         "name": "center_torso",
         "type": "scatter3d",
         "x": [
          -0.00854840874671936
         ],
         "y": [
          -0.0814141184091568
         ],
         "z": [
          0.2069295048713684
         ]
        },
        {
         "marker": {
          "color": "rgb(138,201,38)",
          "size": 6
         },
         "mode": "markers",
         "name": "upper_torso",
         "type": "scatter3d",
         "x": [
          -0.030300356447696686
         ],
         "y": [
          -0.1844339668750763
         ],
         "z": [
          0.44630205631256104
         ]
        },
        {
         "marker": {
          "color": "rgb(138,201,38)",
          "size": 6
         },
         "mode": "markers",
         "name": "neck_base",
         "type": "scatter3d",
         "x": [
          -0.043630097061395645
         ],
         "y": [
          -0.2800828218460083
         ],
         "z": [
          0.5123621821403503
         ]
        },
        {
         "marker": {
          "color": "rgb(138,201,38)",
          "size": 6
         },
         "mode": "markers",
         "name": "center_head",
         "type": "scatter3d",
         "x": [
          -0.04389239475131035
         ],
         "y": [
          -0.257310688495636
         ],
         "z": [
          0.6015156507492065
         ]
        },
        {
         "marker": {
          "color": "rgb(255,202,58)",
          "size": 6
         },
         "mode": "markers",
         "name": "right_shoulder",
         "type": "scatter3d",
         "x": [
          0.13603930175304413
         ],
         "y": [
          -0.15658578276634216
         ],
         "z": [
          0.4259154796600342
         ]
        },
        {
         "marker": {
          "color": "rgb(255,202,58)",
          "size": 6
         },
         "mode": "markers",
         "name": "right_elbow",
         "type": "scatter3d",
         "x": [
          0.20560207962989807
         ],
         "y": [
          -0.014736680313944817
         ],
         "z": [
          0.1912088394165039
         ]
        },
        {
         "marker": {
          "color": "rgb(255,202,58)",
          "size": 6
         },
         "mode": "markers",
         "name": "right_hand",
         "type": "scatter3d",
         "x": [
          0.18421590328216553
         ],
         "y": [
          -0.08485256880521774
         ],
         "z": [
          -0.0528104342520237
         ]
        },
        {
         "marker": {
          "color": "rgb(255,202,58)",
          "size": 6
         },
         "mode": "markers",
         "name": "left_shoulder",
         "type": "scatter3d",
         "x": [
          -0.1851269006729126
         ],
         "y": [
          -0.1357404887676239
         ],
         "z": [
          0.4189494848251343
         ]
        },
        {
         "marker": {
          "color": "rgb(255,202,58)",
          "size": 6
         },
         "mode": "markers",
         "name": "left_elbow",
         "type": "scatter3d",
         "x": [
          -0.22158432006835938
         ],
         "y": [
          0.024499021470546722
         ],
         "z": [
          0.17878255248069763
         ]
        },
        {
         "marker": {
          "color": "rgb(255,202,58)",
          "size": 6
         },
         "mode": "markers",
         "name": "left_hand",
         "type": "scatter3d",
         "x": [
          -0.2087564766407013
         ],
         "y": [
          -0.05524854734539986
         ],
         "z": [
          -0.05053943395614624
         ]
        }
       ],
       "layout": {
        "template": {
         "data": {
          "bar": [
           {
            "error_x": {
             "color": "#2a3f5f"
            },
            "error_y": {
             "color": "#2a3f5f"
            },
            "marker": {
             "line": {
              "color": "#E5ECF6",
              "width": 0.5
             },
             "pattern": {
              "fillmode": "overlay",
              "size": 10,
              "solidity": 0.2
             }
            },
            "type": "bar"
           }
          ],
          "barpolar": [
           {
            "marker": {
             "line": {
              "color": "#E5ECF6",
              "width": 0.5
             },
             "pattern": {
              "fillmode": "overlay",
              "size": 10,
              "solidity": 0.2
             }
            },
            "type": "barpolar"
           }
          ],
          "carpet": [
           {
            "aaxis": {
             "endlinecolor": "#2a3f5f",
             "gridcolor": "white",
             "linecolor": "white",
             "minorgridcolor": "white",
             "startlinecolor": "#2a3f5f"
            },
            "baxis": {
             "endlinecolor": "#2a3f5f",
             "gridcolor": "white",
             "linecolor": "white",
             "minorgridcolor": "white",
             "startlinecolor": "#2a3f5f"
            },
            "type": "carpet"
           }
          ],
          "choropleth": [
           {
            "colorbar": {
             "outlinewidth": 0,
             "ticks": ""
            },
            "type": "choropleth"
           }
          ],
          "contour": [
           {
            "colorbar": {
             "outlinewidth": 0,
             "ticks": ""
            },
            "colorscale": [
             [
              0,
              "#0d0887"
             ],
             [
              0.1111111111111111,
              "#46039f"
             ],
             [
              0.2222222222222222,
              "#7201a8"
             ],
             [
              0.3333333333333333,
              "#9c179e"
             ],
             [
              0.4444444444444444,
              "#bd3786"
             ],
             [
              0.5555555555555556,
              "#d8576b"
             ],
             [
              0.6666666666666666,
              "#ed7953"
             ],
             [
              0.7777777777777778,
              "#fb9f3a"
             ],
             [
              0.8888888888888888,
              "#fdca26"
             ],
             [
              1,
              "#f0f921"
             ]
            ],
            "type": "contour"
           }
          ],
          "contourcarpet": [
           {
            "colorbar": {
             "outlinewidth": 0,
             "ticks": ""
            },
            "type": "contourcarpet"
           }
          ],
          "heatmap": [
           {
            "colorbar": {
             "outlinewidth": 0,
             "ticks": ""
            },
            "colorscale": [
             [
              0,
              "#0d0887"
             ],
             [
              0.1111111111111111,
              "#46039f"
             ],
             [
              0.2222222222222222,
              "#7201a8"
             ],
             [
              0.3333333333333333,
              "#9c179e"
             ],
             [
              0.4444444444444444,
              "#bd3786"
             ],
             [
              0.5555555555555556,
              "#d8576b"
             ],
             [
              0.6666666666666666,
              "#ed7953"
             ],
             [
              0.7777777777777778,
              "#fb9f3a"
             ],
             [
              0.8888888888888888,
              "#fdca26"
             ],
             [
              1,
              "#f0f921"
             ]
            ],
            "type": "heatmap"
           }
          ],
          "heatmapgl": [
           {
            "colorbar": {
             "outlinewidth": 0,
             "ticks": ""
            },
            "colorscale": [
             [
              0,
              "#0d0887"
             ],
             [
              0.1111111111111111,
              "#46039f"
             ],
             [
              0.2222222222222222,
              "#7201a8"
             ],
             [
              0.3333333333333333,
              "#9c179e"
             ],
             [
              0.4444444444444444,
              "#bd3786"
             ],
             [
              0.5555555555555556,
              "#d8576b"
             ],
             [
              0.6666666666666666,
              "#ed7953"
             ],
             [
              0.7777777777777778,
              "#fb9f3a"
             ],
             [
              0.8888888888888888,
              "#fdca26"
             ],
             [
              1,
              "#f0f921"
             ]
            ],
            "type": "heatmapgl"
           }
          ],
          "histogram": [
           {
            "marker": {
             "pattern": {
              "fillmode": "overlay",
              "size": 10,
              "solidity": 0.2
             }
            },
            "type": "histogram"
           }
          ],
          "histogram2d": [
           {
            "colorbar": {
             "outlinewidth": 0,
             "ticks": ""
            },
            "colorscale": [
             [
              0,
              "#0d0887"
             ],
             [
              0.1111111111111111,
              "#46039f"
             ],
             [
              0.2222222222222222,
              "#7201a8"
             ],
             [
              0.3333333333333333,
              "#9c179e"
             ],
             [
              0.4444444444444444,
              "#bd3786"
             ],
             [
              0.5555555555555556,
              "#d8576b"
             ],
             [
              0.6666666666666666,
              "#ed7953"
             ],
             [
              0.7777777777777778,
              "#fb9f3a"
             ],
             [
              0.8888888888888888,
              "#fdca26"
             ],
             [
              1,
              "#f0f921"
             ]
            ],
            "type": "histogram2d"
           }
          ],
          "histogram2dcontour": [
           {
            "colorbar": {
             "outlinewidth": 0,
             "ticks": ""
            },
            "colorscale": [
             [
              0,
              "#0d0887"
             ],
             [
              0.1111111111111111,
              "#46039f"
             ],
             [
              0.2222222222222222,
              "#7201a8"
             ],
             [
              0.3333333333333333,
              "#9c179e"
             ],
             [
              0.4444444444444444,
              "#bd3786"
             ],
             [
              0.5555555555555556,
              "#d8576b"
             ],
             [
              0.6666666666666666,
              "#ed7953"
             ],
             [
              0.7777777777777778,
              "#fb9f3a"
             ],
             [
              0.8888888888888888,
              "#fdca26"
             ],
             [
              1,
              "#f0f921"
             ]
            ],
            "type": "histogram2dcontour"
           }
          ],
          "mesh3d": [
           {
            "colorbar": {
             "outlinewidth": 0,
             "ticks": ""
            },
            "type": "mesh3d"
           }
          ],
          "parcoords": [
           {
            "line": {
             "colorbar": {
              "outlinewidth": 0,
              "ticks": ""
             }
            },
            "type": "parcoords"
           }
          ],
          "pie": [
           {
            "automargin": true,
            "type": "pie"
           }
          ],
          "scatter": [
           {
            "fillpattern": {
             "fillmode": "overlay",
             "size": 10,
             "solidity": 0.2
            },
            "type": "scatter"
           }
          ],
          "scatter3d": [
           {
            "line": {
             "colorbar": {
              "outlinewidth": 0,
              "ticks": ""
             }
            },
            "marker": {
             "colorbar": {
              "outlinewidth": 0,
              "ticks": ""
             }
            },
            "type": "scatter3d"
           }
          ],
          "scattercarpet": [
           {
            "marker": {
             "colorbar": {
              "outlinewidth": 0,
              "ticks": ""
             }
            },
            "type": "scattercarpet"
           }
          ],
          "scattergeo": [
           {
            "marker": {
             "colorbar": {
              "outlinewidth": 0,
              "ticks": ""
             }
            },
            "type": "scattergeo"
           }
          ],
          "scattergl": [
           {
            "marker": {
             "colorbar": {
              "outlinewidth": 0,
              "ticks": ""
             }
            },
            "type": "scattergl"
           }
          ],
          "scattermapbox": [
           {
            "marker": {
             "colorbar": {
              "outlinewidth": 0,
              "ticks": ""
             }
            },
            "type": "scattermapbox"
           }
          ],
          "scatterpolar": [
           {
            "marker": {
             "colorbar": {
              "outlinewidth": 0,
              "ticks": ""
             }
            },
            "type": "scatterpolar"
           }
          ],
          "scatterpolargl": [
           {
            "marker": {
             "colorbar": {
              "outlinewidth": 0,
              "ticks": ""
             }
            },
            "type": "scatterpolargl"
           }
          ],
          "scatterternary": [
           {
            "marker": {
             "colorbar": {
              "outlinewidth": 0,
              "ticks": ""
             }
            },
            "type": "scatterternary"
           }
          ],
          "surface": [
           {
            "colorbar": {
             "outlinewidth": 0,
             "ticks": ""
            },
            "colorscale": [
             [
              0,
              "#0d0887"
             ],
             [
              0.1111111111111111,
              "#46039f"
             ],
             [
              0.2222222222222222,
              "#7201a8"
             ],
             [
              0.3333333333333333,
              "#9c179e"
             ],
             [
              0.4444444444444444,
              "#bd3786"
             ],
             [
              0.5555555555555556,
              "#d8576b"
             ],
             [
              0.6666666666666666,
              "#ed7953"
             ],
             [
              0.7777777777777778,
              "#fb9f3a"
             ],
             [
              0.8888888888888888,
              "#fdca26"
             ],
             [
              1,
              "#f0f921"
             ]
            ],
            "type": "surface"
           }
          ],
          "table": [
           {
            "cells": {
             "fill": {
              "color": "#EBF0F8"
             },
             "line": {
              "color": "white"
             }
            },
            "header": {
             "fill": {
              "color": "#C8D4E3"
             },
             "line": {
              "color": "white"
             }
            },
            "type": "table"
           }
          ]
         },
         "layout": {
          "annotationdefaults": {
           "arrowcolor": "#2a3f5f",
           "arrowhead": 0,
           "arrowwidth": 1
          },
          "autotypenumbers": "strict",
          "coloraxis": {
           "colorbar": {
            "outlinewidth": 0,
            "ticks": ""
           }
          },
          "colorscale": {
           "diverging": [
            [
             0,
             "#8e0152"
            ],
            [
             0.1,
             "#c51b7d"
            ],
            [
             0.2,
             "#de77ae"
            ],
            [
             0.3,
             "#f1b6da"
            ],
            [
             0.4,
             "#fde0ef"
            ],
            [
             0.5,
             "#f7f7f7"
            ],
            [
             0.6,
             "#e6f5d0"
            ],
            [
             0.7,
             "#b8e186"
            ],
            [
             0.8,
             "#7fbc41"
            ],
            [
             0.9,
             "#4d9221"
            ],
            [
             1,
             "#276419"
            ]
           ],
           "sequential": [
            [
             0,
             "#0d0887"
            ],
            [
             0.1111111111111111,
             "#46039f"
            ],
            [
             0.2222222222222222,
             "#7201a8"
            ],
            [
             0.3333333333333333,
             "#9c179e"
            ],
            [
             0.4444444444444444,
             "#bd3786"
            ],
            [
             0.5555555555555556,
             "#d8576b"
            ],
            [
             0.6666666666666666,
             "#ed7953"
            ],
            [
             0.7777777777777778,
             "#fb9f3a"
            ],
            [
             0.8888888888888888,
             "#fdca26"
            ],
            [
             1,
             "#f0f921"
            ]
           ],
           "sequentialminus": [
            [
             0,
             "#0d0887"
            ],
            [
             0.1111111111111111,
             "#46039f"
            ],
            [
             0.2222222222222222,
             "#7201a8"
            ],
            [
             0.3333333333333333,
             "#9c179e"
            ],
            [
             0.4444444444444444,
             "#bd3786"
            ],
            [
             0.5555555555555556,
             "#d8576b"
            ],
            [
             0.6666666666666666,
             "#ed7953"
            ],
            [
             0.7777777777777778,
             "#fb9f3a"
            ],
            [
             0.8888888888888888,
             "#fdca26"
            ],
            [
             1,
             "#f0f921"
            ]
           ]
          },
          "colorway": [
           "#636efa",
           "#EF553B",
           "#00cc96",
           "#ab63fa",
           "#FFA15A",
           "#19d3f3",
           "#FF6692",
           "#B6E880",
           "#FF97FF",
           "#FECB52"
          ],
          "font": {
           "color": "#2a3f5f"
          },
          "geo": {
           "bgcolor": "white",
           "lakecolor": "white",
           "landcolor": "#E5ECF6",
           "showlakes": true,
           "showland": true,
           "subunitcolor": "white"
          },
          "hoverlabel": {
           "align": "left"
          },
          "hovermode": "closest",
          "mapbox": {
           "style": "light"
          },
          "paper_bgcolor": "white",
          "plot_bgcolor": "#E5ECF6",
          "polar": {
           "angularaxis": {
            "gridcolor": "white",
            "linecolor": "white",
            "ticks": ""
           },
           "bgcolor": "#E5ECF6",
           "radialaxis": {
            "gridcolor": "white",
            "linecolor": "white",
            "ticks": ""
           }
          },
          "scene": {
           "xaxis": {
            "backgroundcolor": "#E5ECF6",
            "gridcolor": "white",
            "gridwidth": 2,
            "linecolor": "white",
            "showbackground": true,
            "ticks": "",
            "zerolinecolor": "white"
           },
           "yaxis": {
            "backgroundcolor": "#E5ECF6",
            "gridcolor": "white",
            "gridwidth": 2,
            "linecolor": "white",
            "showbackground": true,
            "ticks": "",
            "zerolinecolor": "white"
           },
           "zaxis": {
            "backgroundcolor": "#E5ECF6",
            "gridcolor": "white",
            "gridwidth": 2,
            "linecolor": "white",
            "showbackground": true,
            "ticks": "",
            "zerolinecolor": "white"
           }
          },
          "shapedefaults": {
           "line": {
            "color": "#2a3f5f"
           }
          },
          "ternary": {
           "aaxis": {
            "gridcolor": "white",
            "linecolor": "white",
            "ticks": ""
           },
           "baxis": {
            "gridcolor": "white",
            "linecolor": "white",
            "ticks": ""
           },
           "bgcolor": "#E5ECF6",
           "caxis": {
            "gridcolor": "white",
            "linecolor": "white",
            "ticks": ""
           }
          },
          "title": {
           "x": 0.05
          },
          "xaxis": {
           "automargin": true,
           "gridcolor": "white",
           "linecolor": "white",
           "ticks": "",
           "title": {
            "standoff": 15
           },
           "zerolinecolor": "white",
           "zerolinewidth": 2
          },
          "yaxis": {
           "automargin": true,
           "gridcolor": "white",
           "linecolor": "white",
           "ticks": "",
           "title": {
            "standoff": 15
           },
           "zerolinecolor": "white",
           "zerolinewidth": 2
          }
         }
        }
       }
      }
     },
     "metadata": {},
     "output_type": "display_data"
    }
   ],
   "source": [
    "import plotly.express as px\n",
    "import plotly.graph_objects as go\n",
    "from typeguard import typechecked\n",
    "from jaxtyping import Int, Float, Bool, Num, jaxtyped\n",
    "from pydantic import BaseModel\n",
    "from typing import Optional, Union\n",
    "\n",
    "NDArray = np.ndarray\n",
    "number =Union[int, float] \n",
    "Color = tuple[int, int, int]|str\n",
    "\n",
    "class Joint(BaseModel):\n",
    "    index:int\n",
    "    opposite_index:Optional[int] = None\n",
    "    name:str\n",
    "    color:Color\n",
    "\n",
    "# for coco\n",
    "coco_joints = [\n",
    "    Joint(index=0, name=\"nose\", color=(255, 0, 0)),\n",
    "    Joint(index=1, name=\"left_eye\", opposite_index=2, color=(0, 255, 0)),\n",
    "    Joint(index=2, name=\"right_eye\", opposite_index=1, color=(0, 0, 255)),\n",
    "    Joint(index=3, name=\"left_ear\", opposite_index=4, color=(255, 255, 0)),\n",
    "    Joint(index=4, name=\"right_ear\", opposite_index=3, color=(0, 255, 255)),\n",
    "    Joint(index=5, name=\"left_shoulder\", opposite_index=6, color=(255, 0, 255)),\n",
    "    Joint(index=6, name=\"right_shoulder\", opposite_index=5, color=(255, 255, 255)),\n",
    "    Joint(index=7, name=\"left_elbow\", opposite_index=8, color=(0, 0, 0)),\n",
    "    Joint(index=8, name=\"right_elbow\", opposite_index=7, color=(100, 100, 100)),\n",
    "    Joint(index=9, name=\"left_wrist\", opposite_index=10, color=(200, 200, 200)),\n",
    "    Joint(index=10, name=\"right_wrist\", opposite_index=9, color=(150, 150, 150)),\n",
    "    Joint(index=11, name=\"left_hip\", opposite_index=12, color=(50, 50, 50)),\n",
    "    Joint(index=12, name=\"right_hip\", opposite_index=11, color=(100, 100, 100)),\n",
    "    Joint(index=13, name=\"left_knee\", opposite_index=14, color=(150, 150, 150)),\n",
    "    Joint(index=14, name=\"right_knee\", opposite_index=13, color=(200, 200, 200)),\n",
    "    Joint(index=15, name=\"left_ankle\", opposite_index=16, color=(250, 250, 250)),\n",
    "    Joint(index=16, name=\"right_ankle\", opposite_index=15, color=(255, 255, 255)),\n",
    "]\n",
    "\n",
    "# https://plotly.com/python-api-reference/generated/plotly.graph_objects.scatter3d.marker.html\n",
    "# plotly.graph_objects.scatter3d.Marker\n",
    "def to_rgb_str(color:tuple[int, int, int])->str:\n",
    "    return f\"rgb({color[0]},{color[1]},{color[2]})\"\n",
    "COLOR_SPINE = to_rgb_str((138, 201, 38)) # green, spine & head\n",
    "COLOR_ARMS = to_rgb_str((255, 202, 58)) # yellow, arms & shoulders\n",
    "COLOR_LEGS = to_rgb_str((25, 130, 196)) # blue, legs & hips\n",
    "CIRCLE_SIZE = 6\n",
    "\n",
    "# https://github.com/lllyasviel/ControlNet/discussions/266\n",
    "# for human 3.6\n",
    "human_36_joints = [\n",
    "    Joint(index=0, name=\"bottom_torso\", color=COLOR_SPINE),\n",
    "    Joint(index=1, name=\"left_hip\", opposite_index=4, color=COLOR_LEGS),\n",
    "    Joint(index=2, name=\"left_knee\", opposite_index=5, color=COLOR_LEGS),\n",
    "    Joint(index=3, name=\"left_foot\", opposite_index=6, color=COLOR_LEGS),\n",
    "    Joint(index=4, name=\"right_hip\", opposite_index=1, color=COLOR_LEGS),\n",
    "    Joint(index=5, name=\"right_knee\", opposite_index=2, color=COLOR_LEGS),\n",
    "    Joint(index=6, name=\"right_foot\", opposite_index=3, color=COLOR_LEGS),\n",
    "    Joint(index=7, name=\"center_torso\", color=COLOR_SPINE),\n",
    "    Joint(index=8, name=\"upper_torso\", color=COLOR_SPINE),\n",
    "    Joint(index=9, name=\"neck_base\", color=COLOR_SPINE),\n",
    "    Joint(index=10, name=\"center_head\", color=COLOR_SPINE),\n",
    "    Joint(index=11, name=\"right_shoulder\", opposite_index=14, color=COLOR_ARMS),\n",
    "    Joint(index=12, name=\"right_elbow\", opposite_index=15, color=COLOR_ARMS),\n",
    "    Joint(index=13, name=\"right_hand\", opposite_index=16, color=COLOR_ARMS),\n",
    "    Joint(index=14, name=\"left_shoulder\", opposite_index=11, color=COLOR_ARMS),\n",
    "    Joint(index=15, name=\"left_elbow\", opposite_index=12, color=COLOR_ARMS),\n",
    "    Joint(index=16, name=\"left_hand\", opposite_index=13, color=COLOR_ARMS),\n",
    "]\n",
    "\n",
    "# note that the keypoints are in the format of (x, y, z)\n",
    "# where x is the horizontal axis, z is the depth axis, and y is the vertical axis (upwards)\n",
    "# i.e. the x-z plane is the ground plane\n",
    "\n",
    "@jaxtyped(typechecker=typechecked)\n",
    "def xz_ground_2_xy_ground(xyz: Num[NDArray, \"17 3\"]) -> Num[NDArray, \"17 3\"]:\n",
    "    \"\"\"\n",
    "    essentially make xyz -> xzy\n",
    "    \"\"\"\n",
    "    return np.array([xyz[:, 0], xyz[:, 2], xyz[:, 1]]).T\n",
    "\n",
    "def swap_axes_direction(arr: Num[NDArray, \"17 1\"]) -> Num[NDArray, \"17 1\"]:\n",
    "    return -arr\n",
    "\n",
    "sel = kps[0]\n",
    "display(sel.shape)\n",
    "display(sel)\n",
    "sel = xz_ground_2_xy_ground(sel)\n",
    "# reverse the upright axis\n",
    "sel[:, 2] = -sel[:, 2]\n",
    "\n",
    "scatters = [go.Scatter3d(x=[sel[j.index, 0]], y=[sel[j.index, 1]], z=[sel[j.index, 2]], mode='markers', marker=dict(size=CIRCLE_SIZE, color=j.color), name=j.name) for j in human_36_joints]\n",
    "fig = go.Figure(data=scatters)\n",
    "\n",
    "fig.show()"
   ]
  }
 ],
 "metadata": {
  "kernelspec": {
   "display_name": "Python 3",
   "language": "python",
   "name": "python3"
  },
  "language_info": {
   "codemirror_mode": {
    "name": "ipython",
    "version": 3
   },
   "file_extension": ".py",
   "mimetype": "text/x-python",
   "name": "python",
   "nbconvert_exporter": "python",
   "pygments_lexer": "ipython3",
   "version": "3.12.4"
  }
 },
 "nbformat": 4,
 "nbformat_minor": 2
}
