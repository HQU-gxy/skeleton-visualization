{
 "cells": [
  {
   "cell_type": "code",
   "execution_count": null,
   "metadata": {},
   "outputs": [],
   "source": [
    "from npybvh.bvh import Bvh, BvhJoint\n",
    "import plotly.express as px\n",
    "import plotly.graph_objects as go\n",
    "from typeguard import typechecked\n",
    "from jaxtyping import Int, Float, Bool, Num, jaxtyped\n",
    "from pydantic import BaseModel\n",
    "from typing import Optional, Union\n",
    "from plotly.graph_objects import layout\n",
    "from ipywidgets import interact, interactive, fixed, interact_manual, interactive_output\n",
    "import ipywidgets as widgets\n",
    "from IPython.display import clear_output\n",
    "from dataclasses import dataclass\n",
    "from matplotlib import pyplot as plt\n",
    "import numpy as np"
   ]
  },
  {
   "cell_type": "code",
   "execution_count": null,
   "metadata": {},
   "outputs": [],
   "source": [
    "anim = Bvh()\n",
    "# anim.parse_file(\"leaving.bvh\")\n",
    "anim.parse_file(\"172_jump_4.bvh\")\n",
    "joint = anim.joints\n",
    "n = 0 \n",
    "for k, v in joint.items():\n",
    "    print(k)\n",
    "    n += 1\n",
    "print(n)"
   ]
  },
  {
   "cell_type": "code",
   "execution_count": null,
   "metadata": {},
   "outputs": [],
   "source": [
    "# fig = anim.plot_hierarchy()\n",
    "fig = anim.plot_frame(0)\n",
    "ax = fig.gca()\n",
    "# LIM_LOW = -1\n",
    "# LIM_HIGH = 1\n",
    "LIM_LOW = -100\n",
    "LIM_HIGH = 100\n",
    "ax.set_xlim(LIM_LOW, LIM_HIGH)\n",
    "ax.set_ylim(LIM_LOW, LIM_HIGH)\n",
    "ax.set_zlim(LIM_LOW, LIM_HIGH)"
   ]
  },
  {
   "cell_type": "code",
   "execution_count": null,
   "metadata": {},
   "outputs": [],
   "source": [
    "channels = anim.channels\n",
    "display(channels)"
   ]
  },
  {
   "cell_type": "code",
   "execution_count": null,
   "metadata": {},
   "outputs": [],
   "source": [
    "f = anim.keyframes[0]\n",
    "len(anim.keyframes[0])"
   ]
  },
  {
   "cell_type": "code",
   "execution_count": null,
   "metadata": {},
   "outputs": [],
   "source": [
    "ff = np.stack([f, range(len(f))], axis=1)\n",
    "idxes = ff[abs(ff[:,0]) > 1e-3][:,1].astype(int)\n",
    "vals = ff[:,0][idxes]"
   ]
  },
  {
   "cell_type": "code",
   "execution_count": null,
   "metadata": {},
   "outputs": [],
   "source": [
    "sel_channels = [channels[i] for i in idxes]\n",
    "for i, c in zip(vals, sel_channels):\n",
    "    if \"Finger\" not in c.joint.name:\n",
    "        print(i, c)"
   ]
  }
 ],
 "metadata": {
  "kernelspec": {
   "display_name": "base",
   "language": "python",
   "name": "python3"
  },
  "language_info": {
   "codemirror_mode": {
    "name": "ipython",
    "version": 3
   },
   "file_extension": ".py",
   "mimetype": "text/x-python",
   "name": "python",
   "nbconvert_exporter": "python",
   "pygments_lexer": "ipython3",
   "version": "3.12.3"
  }
 },
 "nbformat": 4,
 "nbformat_minor": 2
}
