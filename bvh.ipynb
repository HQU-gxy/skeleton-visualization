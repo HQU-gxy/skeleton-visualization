{
 "cells": [
  {
   "cell_type": "code",
   "execution_count": 1,
   "metadata": {},
   "outputs": [],
   "source": [
    "from pathlib import Path\n",
    "import bvhio"
   ]
  },
  {
   "cell_type": "code",
   "execution_count": 2,
   "metadata": {},
   "outputs": [],
   "source": [
    "b = bvhio.readAsBvh(\"172_jump_4.bvh\")"
   ]
  },
  {
   "cell_type": "code",
   "execution_count": 14,
   "metadata": {},
   "outputs": [
    {
     "data": {
      "text/plain": [
       "{'Hips': 1051,\n",
       " 'Spine1': 1051,\n",
       " 'Spine2': 1051,\n",
       " 'Spine3': 1051,\n",
       " 'Spine4': 1051,\n",
       " 'Neck': 1051,\n",
       " 'Head': 1051,\n",
       " 'HeadTip': 1051,\n",
       " 'RightShoulder': 1051,\n",
       " 'RightArm': 1051,\n",
       " 'RightForeArm': 1051,\n",
       " 'RightHand': 1051,\n",
       " 'RightFinger1Metacarpal': 1051,\n",
       " 'RightFinger1Proximal': 1051,\n",
       " 'RightFinger1Distal': 1051,\n",
       " 'RightFinger1Tip': 1051,\n",
       " 'RightFinger5Metacarpal': 1051,\n",
       " 'RightFinger5Proximal': 1051,\n",
       " 'RightFinger5Medial': 1051,\n",
       " 'RightFinger5Distal': 1051,\n",
       " 'RightFinger5Tip': 1051,\n",
       " 'RightFinger4Metacarpal': 1051,\n",
       " 'RightFinger4Proximal': 1051,\n",
       " 'RightFinger4Medial': 1051,\n",
       " 'RightFinger4Distal': 1051,\n",
       " 'RightFinger4Tip': 1051,\n",
       " 'RightFinger3Metacarpal': 1051,\n",
       " 'RightFinger3Proximal': 1051,\n",
       " 'RightFinger3Medial': 1051,\n",
       " 'RightFinger3Distal': 1051,\n",
       " 'RightFinger3Tip': 1051,\n",
       " 'RightFinger2Metacarpal': 1051,\n",
       " 'RightFinger2Proximal': 1051,\n",
       " 'RightFinger2Medial': 1051,\n",
       " 'RightFinger2Distal': 1051,\n",
       " 'RightFinger2Tip': 1051,\n",
       " 'LeftShoulder': 1051,\n",
       " 'LeftArm': 1051,\n",
       " 'LeftForeArm': 1051,\n",
       " 'LeftHand': 1051,\n",
       " 'LeftFinger5Metacarpal': 1051,\n",
       " 'LeftFinger5Proximal': 1051,\n",
       " 'LeftFinger5Medial': 1051,\n",
       " 'LeftFinger5Distal': 1051,\n",
       " 'LeftFinger5Tip': 1051,\n",
       " 'LeftFinger4Metacarpal': 1051,\n",
       " 'LeftFinger4Proximal': 1051,\n",
       " 'LeftFinger4Medial': 1051,\n",
       " 'LeftFinger4Distal': 1051,\n",
       " 'LeftFinger4Tip': 1051,\n",
       " 'LeftFinger3Metacarpal': 1051,\n",
       " 'LeftFinger3Proximal': 1051,\n",
       " 'LeftFinger3Medial': 1051,\n",
       " 'LeftFinger3Distal': 1051,\n",
       " 'LeftFinger3Tip': 1051,\n",
       " 'LeftFinger2Metacarpal': 1051,\n",
       " 'LeftFinger2Proximal': 1051,\n",
       " 'LeftFinger2Medial': 1051,\n",
       " 'LeftFinger2Distal': 1051,\n",
       " 'LeftFinger2Tip': 1051,\n",
       " 'LeftFinger1Metacarpal': 1051,\n",
       " 'LeftFinger1Proximal': 1051,\n",
       " 'LeftFinger1Distal': 1051,\n",
       " 'LeftFinger1Tip': 1051,\n",
       " 'RightThigh': 1051,\n",
       " 'RightShin': 1051,\n",
       " 'RightFoot': 1051,\n",
       " 'RightToe': 1051,\n",
       " 'RightToeTip': 1051,\n",
       " 'LeftThigh': 1051,\n",
       " 'LeftShin': 1051,\n",
       " 'LeftFoot': 1051,\n",
       " 'LeftToe': 1051,\n",
       " 'LeftToeTip': 1051}"
      ]
     },
     "execution_count": 14,
     "metadata": {},
     "output_type": "execute_result"
    }
   ],
   "source": [
    "stat = {}\n",
    "for joint, index, depth in b.Root.layout():\n",
    "    # print(joint, index, depth)\n",
    "    n = joint.Name\n",
    "    for kf in joint.Keyframes:\n",
    "        stat[n] = stat.get(n, 0) + 1\n",
    "\n",
    "display(stat)\n",
    "joint.Keyframes[0]"
   ]
  }
 ],
 "metadata": {
  "kernelspec": {
   "display_name": "Python 3",
   "language": "python",
   "name": "python3"
  },
  "language_info": {
   "codemirror_mode": {
    "name": "ipython",
    "version": 3
   },
   "file_extension": ".py",
   "mimetype": "text/x-python",
   "name": "python",
   "nbconvert_exporter": "python",
   "pygments_lexer": "ipython3",
   "version": "3.12.4"
  }
 },
 "nbformat": 4,
 "nbformat_minor": 2
}
